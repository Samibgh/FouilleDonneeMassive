{
 "cells": [
  {
   "cell_type": "code",
   "execution_count": null,
   "id": "a5b1e5cf",
   "metadata": {},
   "outputs": [],
   "source": [
    "import os \n",
    "import pandas as pd \n",
    "\n",
    "from sklearn.neighbors import KNeighborsClassifier\n",
    "from sklearn.ensemble import RandomForestClassifier\n",
    "from sklearn.tree import DecisionTreeClassifier\n",
    "from sklearn.metrics import f1_score\n",
    "from sklearn.neural_network import MLPClassifier\n",
    "from sklearn.svm import SVC\n",
    "from sklearn.naive_bayes import GaussianNB\n",
    "from sklearn.discriminant_analysis import LinearDiscriminantAnalysis\n",
    "from sklearn.ensemble import GradientBoostingClassifier\n",
    "from imblearn.over_sampling import BorderlineSMOTE\n",
    "import dask.dataframe as dd\n",
    "\n",
    "try:\n",
    "    os.chdir(\"C:/Users/sibghi/Documents/Fouille massive\")\n",
    "except:\n",
    "    os.chdir(\"/Users/titouanhoude/Documents/GitHub\")\n",
    "\n",
    "data = pd.read_csv(\"guillaume.txt\", sep = \";\")\n",
    "data.info()\n",
    "\n",
    "data.head()\n",
    "\n",
    "data.isna().sum()\n",
    "\n",
    "\n",
    "#recode type of variable \n",
    "var_quanti = [\"Montant\",\"VerifianceCPT1\", \"VerifianceCPT2\", \"VerifianceCPT3\",\"D2CB\",\"ScoringFP1\",\"ScoringFP2\",\"ScoringFP3\",\"TauxImpNb_RB\",\"TauxImpNB_CPM\",\"EcartNumCheq\",\"NbrMagasin3J\",\"DiffDateTr1\", \"DiffDateTr2\",\"DiffDateTr3\",\"CA3TRetMtt\",\"CA3TR\",\"Heure\"]\n",
    "\n",
    "var_quali = [\"FlagImpaye\" , \"IDAvisAutorisationCheque\" , \"CodeDecision\"]\n",
    "\n",
    "\n",
    "for i in var_quanti :\n",
    "    \n",
    "    data[i] = data[i].replace(\",\", \".\", regex= True).astype(float).round(0)\n",
    "\n",
    "for i in var_quali :\n",
    "    \n",
    "    data[i] = data[i].astype(object)\n",
    "    \n",
    "\n",
    "#look the number modality \n",
    "data.FlagImpaye.value_counts()\n",
    "\n",
    "\n",
    "### Convertir to float ###\n",
    "#data = data.apply(pd.to_numeric, downcast = \"float\", errors = \"coerce\")\n"
   ]
  },
  {
   "cell_type": "code",
   "execution_count": null,
   "id": "30d257fd",
   "metadata": {},
   "outputs": [],
   "source": [
    "data[\"DateTransaction\"] = pd.to_datetime(data[\"DateTransaction\"])\n",
    "train = data[data[\"DateTransaction\"]<=\"2017-08-31\"]\n",
    "test = data[data[\"DateTransaction\"]>\"2017-08-31\"]\n"
   ]
  },
  {
   "cell_type": "code",
   "execution_count": null,
   "id": "2151685c",
   "metadata": {},
   "outputs": [],
   "source": [
    "train.to_parquet('train.parquet.gzip',\n",
    "              compression='gzip') \n",
    "test.to_parquet('test.parquet.gzip',\n",
    "              compression='gzip') "
   ]
  }
 ],
 "metadata": {
  "kernelspec": {
   "display_name": "Python 3 (ipykernel)",
   "language": "python",
   "name": "python3"
  },
  "language_info": {
   "codemirror_mode": {
    "name": "ipython",
    "version": 3
   },
   "file_extension": ".py",
   "mimetype": "text/x-python",
   "name": "python",
   "nbconvert_exporter": "python",
   "pygments_lexer": "ipython3",
   "version": "3.9.12"
  }
 },
 "nbformat": 4,
 "nbformat_minor": 5
}
