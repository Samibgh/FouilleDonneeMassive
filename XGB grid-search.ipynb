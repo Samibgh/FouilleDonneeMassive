{
 "cells": [
  {
   "cell_type": "code",
   "execution_count": 21,
   "metadata": {},
   "outputs": [],
   "source": [
    "import os \n",
    "import pandas as pd \n",
    "import numpy as np\n",
    "from sklearn.svm import SVC\n",
    "from sklearn.svm import OneClassSVM\n",
    "import dask.dataframe as dd\n",
    "import fastparquet\n",
    "from imblearn.under_sampling import ClusterCentroids\n",
    "from sklearn.model_selection import RepeatedStratifiedKFold\n",
    "from joblib import Parallel, delayed\n",
    "from sklearn.model_selection import GridSearchCV\n",
    "from sklearn.model_selection import KFold\n",
    "from xgboost import XGBRFClassifier\n",
    "from imblearn.pipeline import Pipeline\n",
    "from sklearn.model_selection import cross_val_score\n",
    "from sklearn.model_selection import RepeatedStratifiedKFold\n",
    "from imblearn.under_sampling import OneSidedSelection\n",
    "from sklearn.metrics import classification_report\n",
    "from sklearn.metrics import roc_auc_score\n",
    "from sklearn.metrics import f1_score, make_scorer\n",
    "try:\n",
    "    os.chdir(\"C:/Users/Sam/Documents/SISE/Fouille de données\")\n",
    "except:\n",
    "    os.chdir(\"/Users/titouanhoude/Documents/GitHub\")\n",
    "    \n",
    "XBdSada = pd.read_csv('Xtrain_Adasyn.csv')\n",
    "XBdSada = XBdSada.drop(['Unnamed: 0'], axis = 1)\n",
    "\n",
    "YBdada = pd.read_csv('Ytrain_Adasyn.csv')\n",
    "YBdada = YBdada.drop(['Unnamed: 0'], axis = 1)\n",
    "\n",
    "test = pd.read_parquet('test.parquet.gzip')\n",
    "\n",
    "Xtest  = test.drop([\"FlagImpaye\",\"ZIBZIN\", \"Date\", \"Heure_split\", \"DateTransaction\", 'Unnamed: 0'], axis = 1)\n",
    "Ytest  = test.FlagImpaye"
   ]
  },
  {
   "cell_type": "code",
   "execution_count": 2,
   "metadata": {},
   "outputs": [],
   "source": [
    "import os \n",
    "import pandas as pd \n",
    "import numpy as np\n",
    "from sklearn.svm import SVC\n",
    "from sklearn.svm import OneClassSVM\n",
    "import dask.dataframe as dd\n",
    "import fastparquet\n",
    "from imblearn.under_sampling import ClusterCentroids\n",
    "from sklearn.model_selection import RepeatedStratifiedKFold\n",
    "from joblib import Parallel, delayed\n",
    "from sklearn.model_selection import GridSearchCV\n",
    "from sklearn.model_selection import KFold\n",
    "from xgboost import XGBRFClassifier\n",
    "from imblearn.pipeline import Pipeline\n",
    "from sklearn.model_selection import cross_val_score\n",
    "from sklearn.model_selection import RepeatedStratifiedKFold\n",
    "from imblearn.under_sampling import OneSidedSelection\n",
    "from sklearn.metrics import classification_report\n",
    "from sklearn.metrics import roc_auc_score\n",
    "from sklearn.metrics import f1_score, make_scorer\n",
    "\n",
    "try:\n",
    "    os.chdir(\"C:/Users/Sam/Documents/GitHub/FouilleDonneeMassive/Xgboost\")\n",
    "    \n",
    "except:\n",
    "    os.chdir(\"/Users/titouanhoude/Documents/GitHub\")\n",
    "    \n",
    "XBdSada = pd.read_csv('Xtrain_smote.csv')\n",
    "XBdSada = XBdSada.drop(['Unnamed: 0'], axis = 1)\n",
    "\n",
    "YBdada = pd.read_csv('Ytrain_smote.csv')\n",
    "YBdada = YBdada.drop(['Unnamed: 0'], axis = 1)\n",
    "\n",
    "os.chdir(\"C:/Users/Sam/Documents/SISE/Fouille de données\")\n",
    "test = pd.read_parquet('test.parquet.gzip')\n",
    "\n",
    "Xtest  = test.drop([\"FlagImpaye\",\"ZIBZIN\", \"Date\", \"Heure_split\", \"DateTransaction\", 'Unnamed: 0'], axis = 1)\n",
    "Ytest  = test.FlagImpaye"
   ]
  },
  {
   "cell_type": "code",
   "execution_count": 3,
   "metadata": {},
   "outputs": [],
   "source": [
    "parameters = {\n",
    "        'gamma': [0, 0.5, 1, 2.5, 5],\n",
    "        'max_depth': [4, 5, 6, 7, 8],\n",
    "        'learning_rate': [0.6, 0.45, 0.3, 0.1],\n",
    "        \n",
    "        }\n",
    "\n",
    "crossvalidation=KFold(n_splits=2,shuffle=True,random_state=1)\n",
    "f1 = make_scorer(f1_score , average='macro')\n",
    "\n",
    "def gridsearch(model):\n",
    "\n",
    "    search1=GridSearchCV(estimator=model,param_grid=parameters, scoring=f1 ,n_jobs=1,cv=crossvalidation, verbose = 2)\n",
    "    search1.fit(XBdSada,YBdada)\n",
    "    \n",
    "    return search1\n",
    "    \n"
   ]
  },
  {
   "cell_type": "code",
   "execution_count": null,
   "metadata": {},
   "outputs": [],
   "source": [
    "results = Parallel(n_jobs=4)(delayed(gridsearch)(XGBRFClassifier()) for _ in range(1))"
   ]
  },
  {
   "cell_type": "code",
   "execution_count": 30,
   "metadata": {},
   "outputs": [],
   "source": [
    "results[0].best_params_\n",
    "res =results[0].best_params_\n",
    "res = pd.DataFrame(res,index=[0]).transpose()\n",
    "res.to_csv(\"C:/Users/Sam/Documents/GitHub/FouilleDonneeMassive/Xgboost/BestParam_Smote_Xgboost.csv\")\n",
    " "
   ]
  },
  {
   "cell_type": "code",
   "execution_count": 20,
   "metadata": {},
   "outputs": [],
   "source": [
    "pred_best = results[0].predict(Xtest)"
   ]
  },
  {
   "cell_type": "code",
   "execution_count": 24,
   "metadata": {},
   "outputs": [],
   "source": [
    "from sklearn.metrics import classification_report\n",
    "tab = classification_report(Ytest, pred_best,output_dict=True)\n",
    "tab = pd.DataFrame(tab).transpose()\n",
    "tab.to_csv(\"C:/Users/Sam/Documents/GitHub/FouilleDonneeMassive/Xgboost/Tab_SmoteGridSearch.csv\")"
   ]
  },
  {
   "cell_type": "code",
   "execution_count": 4,
   "metadata": {},
   "outputs": [],
   "source": [
    "\n",
    "parameters = {\n",
    "        'gamma': [1,1.5, 2, 5],\n",
    "        'max_depth': [6],\n",
    "        'learning_rate': [0.3,0.4,0.6],\n",
    "        \n",
    "        }\n",
    "results2 = Parallel(n_jobs=4)(delayed(gridsearch)(XGBRFClassifier()) for _ in range(1))"
   ]
  },
  {
   "cell_type": "code",
   "execution_count": null,
   "metadata": {},
   "outputs": [],
   "source": [
    "results2[0].best_params_\n",
    "res =results2[0].best_params_\n",
    "res = pd.DataFrame(res,index=[0]).transpose()\n",
    "res.to_csv(\"C:/Users/Sam/Documents/GitHub/FouilleDonneeMassive/Xgboost/BestParam_Smote_Xgboost.csv\")\n",
    " "
   ]
  },
  {
   "cell_type": "code",
   "execution_count": 5,
   "metadata": {},
   "outputs": [
    {
     "data": {
      "text/plain": [
       "{'gamma': 1, 'learning_rate': 0.3, 'max_depth': 6}"
      ]
     },
     "execution_count": 5,
     "metadata": {},
     "output_type": "execute_result"
    }
   ],
   "source": [
    "results2[0].best_params_\n"
   ]
  },
  {
   "cell_type": "code",
   "execution_count": null,
   "metadata": {},
   "outputs": [],
   "source": []
  }
 ],
 "metadata": {
  "kernelspec": {
   "display_name": "Python 3 (ipykernel)",
   "language": "python",
   "name": "python3"
  },
  "language_info": {
   "codemirror_mode": {
    "name": "ipython",
    "version": 3
   },
   "file_extension": ".py",
   "mimetype": "text/x-python",
   "name": "python",
   "nbconvert_exporter": "python",
   "pygments_lexer": "ipython3",
   "version": "3.9.13"
  },
  "vscode": {
   "interpreter": {
    "hash": "333d2c9757a75282c9d4867cccb346dd97fbdd6438562bec117fa31e687fe23c"
   }
  }
 },
 "nbformat": 4,
 "nbformat_minor": 2
}
