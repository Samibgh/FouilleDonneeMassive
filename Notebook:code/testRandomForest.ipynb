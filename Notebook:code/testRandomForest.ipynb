{
 "cells": [
  {
   "cell_type": "code",
   "execution_count": 1,
   "id": "29c0b4e8",
   "metadata": {},
   "outputs": [],
   "source": [
    "import os \n",
    "import pandas as pd \n",
    "import numpy as np\n",
    "\n",
    "from sklearn.neighbors import KNeighborsClassifier\n",
    "from sklearn.ensemble import RandomForestClassifier\n",
    "from sklearn.tree import DecisionTreeClassifier\n",
    "from sklearn.metrics import f1_score\n",
    "from sklearn.neural_network import MLPClassifier\n",
    "from sklearn.svm import SVC\n",
    "from sklearn.naive_bayes import GaussianNB\n",
    "from sklearn.discriminant_analysis import LinearDiscriminantAnalysis\n",
    "from sklearn.ensemble import GradientBoostingClassifier\n",
    "from imblearn.over_sampling import BorderlineSMOTE\n",
    "import dask.dataframe as dd\n",
    "import fastparquet\n",
    "from sklearn.svm import OneClassSVM\n",
    "try:\n",
    "    os.chdir(\"C:/Users/Sam/Documents/SISE/Fouille de données\")\n",
    "except:\n",
    "    os.chdir(\"/Users/titouanhoude/Documents/GitHub\")\n",
    "    \n",
    "train = pd.read_parquet('train.parquet.gzip')\n",
    "test = pd.read_parquet('test.parquet.gzip')"
   ]
  },
  {
   "cell_type": "code",
   "execution_count": 3,
   "id": "ae182174",
   "metadata": {},
   "outputs": [],
   "source": [
    "from sklearn.utils import class_weight\n",
    "\n",
    "classes = np.unique(train.FlagImpaye)\n",
    "cw = class_weight.compute_class_weight(class_weight = 'balanced',classes =  np.unique(train.FlagImpaye),y= train.FlagImpaye)\n",
    "weights = dict(zip(classes,cw))"
   ]
  },
  {
   "cell_type": "code",
   "execution_count": 4,
   "id": "47a27b61",
   "metadata": {},
   "outputs": [],
   "source": [
    "Xtrain = train.drop([\"FlagImpaye\", \"ZIBZIN\", \"Date\", \"Heure_split\", \"DateTransaction\", \"Unnamed: 0\"], axis = 1)\n",
    "\n",
    "Ytrain = pd.DataFrame(train.FlagImpaye)\n",
    "Ytrain = Ytrain['FlagImpaye'].astype('int')\n",
    "\n",
    "Xtest  = test.drop([\"FlagImpaye\",\"ZIBZIN\", \"Date\", \"Heure_split\", \"DateTransaction\", 'Unnamed: 0'], axis = 1)\n",
    "Ytest  = test.FlagImpaye"
   ]
  },
  {
   "cell_type": "code",
   "execution_count": 5,
   "id": "b63d98d7",
   "metadata": {},
   "outputs": [
    {
     "name": "stdout",
     "output_type": "stream",
     "text": [
      "              precision    recall  f1-score   support\n",
      "\n",
      "           0       1.00      1.00      1.00    740838\n",
      "           1       1.00      0.65      0.79      6573\n",
      "\n",
      "    accuracy                           1.00    747411\n",
      "   macro avg       1.00      0.82      0.89    747411\n",
      "weighted avg       1.00      1.00      1.00    747411\n",
      "\n"
     ]
    }
   ],
   "source": [
    "from xgboost import XGBRFClassifier\n",
    "from sklearn.ensemble import RandomForestClassifier\n",
    "from sklearn.ensemble import BaggingClassifier\n",
    "model = RandomForestClassifier(\n",
    "                        class_weight =weights)\n",
    "model.fit(Xtrain, Ytrain)\n",
    "y_score = model.predict_proba(Xtest)\n",
    "y_pred = model.predict(Xtest)\n",
    "from sklearn.metrics import classification_report\n",
    "tab = classification_report(Ytest, y_pred)\n",
    "print(tab)"
   ]
  },
  {
   "cell_type": "code",
   "execution_count": 9,
   "id": "637b7167",
   "metadata": {},
   "outputs": [],
   "source": [
    "tab = classification_report(Ytest, y_pred,output_dict=True)\n",
    "tab = pd.DataFrame(tab).transpose()\n",
    "tab.to_csv(\"C:/Users/Sam/Documents/GitHub/FouilleDonneeMassive/RandomForest/Tab_POidsBagging.csv\")"
   ]
  },
  {
   "cell_type": "code",
   "execution_count": 6,
   "id": "b5477b0f",
   "metadata": {},
   "outputs": [
    {
     "name": "stdout",
     "output_type": "stream",
     "text": [
      "              precision    recall  f1-score   support\n",
      "\n",
      "           0       1.00      1.00      1.00    740838\n",
      "           1       1.00      0.65      0.79      6573\n",
      "\n",
      "    accuracy                           1.00    747411\n",
      "   macro avg       1.00      0.82      0.89    747411\n",
      "weighted avg       1.00      1.00      1.00    747411\n",
      "\n"
     ]
    }
   ],
   "source": [
    "from sklearn.ensemble import BaggingClassifier\n",
    "bagging_clf = BaggingClassifier(base_estimator=model,\n",
    "                                random_state=0)\n",
    "bagging_clf.fit(Xtrain, Ytrain)\n",
    "y_score = bagging_clf.predict_proba(Xtest)\n",
    "y_pred2 = bagging_clf.predict(Xtest)\n",
    "tab2 = classification_report(Ytest, y_pred2)\n",
    "print(tab2)"
   ]
  },
  {
   "cell_type": "code",
   "execution_count": null,
   "id": "603063bd",
   "metadata": {},
   "outputs": [],
   "source": [
    "from sklearn.ensemble import BaggingClassifier\n",
    "bagging_clf = BaggingClassifier(base_estimator=XGBRFClassifier(max_depth=6,gamma = 1, learning_rate =  0.05),\n",
    "                                random_state=0)\n",
    "bagging_clf.fit(Xtrain, Ytrain)\n",
    "y_score = bagging_clf.predict_proba(Xtest)\n",
    "y_pred3 = bagging_clf.predict(Xtest)\n",
    "tab3 = classification_report(Ytest, y_pred3)\n",
    "print(tab2)"
   ]
  }
 ],
 "metadata": {
  "kernelspec": {
   "display_name": "Python 3 (ipykernel)",
   "language": "python",
   "name": "python3"
  },
  "language_info": {
   "codemirror_mode": {
    "name": "ipython",
    "version": 3
   },
   "file_extension": ".py",
   "mimetype": "text/x-python",
   "name": "python",
   "nbconvert_exporter": "python",
   "pygments_lexer": "ipython3",
   "version": "3.9.12"
  }
 },
 "nbformat": 4,
 "nbformat_minor": 5
}
